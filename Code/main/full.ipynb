{
 "cells": [
  {
   "cell_type": "code",
   "execution_count": 1,
   "metadata": {},
   "outputs": [
    {
     "name": "stdout",
     "output_type": "stream",
     "text": [
      "WARNING:tensorflow:From c:\\ProgramData\\miniconda3\\envs\\pytorch_env\\Lib\\site-packages\\tf_keras\\src\\losses.py:2976: The name tf.losses.sparse_softmax_cross_entropy is deprecated. Please use tf.compat.v1.losses.sparse_softmax_cross_entropy instead.\n",
      "\n"
     ]
    },
    {
     "name": "stderr",
     "output_type": "stream",
     "text": [
      "Device set to use cuda:0\n"
     ]
    },
    {
     "name": "stdout",
     "output_type": "stream",
     "text": [
      "Summary: The whole point of all these festival is to undergo a little bit of struggle. The poor people continue to run towards religion and get themselves humiliated. #I come from two Indias. How can people even tolerate this kind of nonsense? #I am a hindu and this is really sad.\n"
     ]
    }
   ],
   "source": [
    "from transformers import pipeline\n",
    "import json\n",
    "\n",
    "# Load the JSON file\n",
    "with open(\"reddit_results.json\", \"r\", encoding=\"utf-8\") as file:\n",
    "    data = json.load(file)\n",
    "\n",
    "# Initialize the summarization pipeline\n",
    "summarizer = pipeline(\"summarization\", model=\"facebook/bart-large-cnn\")\n",
    "\n",
    "# Extract text from JSON (titles and comments)\n",
    "def extract_text(data):\n",
    "    text = \"\"\n",
    "    for entry in data:\n",
    "        text += entry[\"title\"] + \". \"  # Include title\n",
    "        text += \" \".join(entry[\"comments\"]) + \" \"  # Include comments\n",
    "    return text\n",
    "\n",
    "# Get the extracted text\n",
    "text_data = extract_text(data)\n",
    "\n",
    "# Summarize the text (limit input to prevent model overload)\n",
    "summary = summarizer(text_data[:1024], max_length=200, min_length=50, do_sample=False)\n",
    "\n",
    "# Print the summary\n",
    "print(\"Summary:\", summary[0][\"summary_text\"])\n"
   ]
  },
  {
   "cell_type": "code",
   "execution_count": null,
   "metadata": {},
   "outputs": [],
   "source": []
  }
 ],
 "metadata": {
  "kernelspec": {
   "display_name": "pytorch_env",
   "language": "python",
   "name": "python3"
  },
  "language_info": {
   "codemirror_mode": {
    "name": "ipython",
    "version": 3
   },
   "file_extension": ".py",
   "mimetype": "text/x-python",
   "name": "python",
   "nbconvert_exporter": "python",
   "pygments_lexer": "ipython3",
   "version": "3.11.11"
  }
 },
 "nbformat": 4,
 "nbformat_minor": 2
}
