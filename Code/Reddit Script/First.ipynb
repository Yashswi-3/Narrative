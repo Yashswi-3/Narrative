{
 "cells": [
  {
   "cell_type": "code",
   "execution_count": 2,
   "metadata": {},
   "outputs": [
    {
     "name": "stdout",
     "output_type": "stream",
     "text": [
      "                                               Title  \\\n",
      "0            Why si the Russian Ukraine war so slow    \n",
      "1  Russia's Putin cements ties with Iranian presi...   \n",
      "2  Hezbollah Waged War Against the People of My C...   \n",
      "3  The Brewing War With Israel Is Boosting Iran’s...   \n",
      "4  What’s your perspective on the stance of Gulf ...   \n",
      "\n",
      "                                        Body/Content  Post ID    Subreddit  \\\n",
      "0   Is this the reality of wars that it takes so ...  1g1f3jp  geopolitics   \n",
      "1                                                     1g1c7df  geopolitics   \n",
      "2                                                     1g1bk9i  geopolitics   \n",
      "3                                                     1g1azwp  geopolitics   \n",
      "4   Do the Gulf countries like the UAE, Saudi Ara...  1g130q7  geopolitics   \n",
      "\n",
      "             Date/Time  Score  Number of Comments  \n",
      "0  2024-10-11 17:22:03      0                   2  \n",
      "1  2024-10-11 15:16:45      3                   1  \n",
      "2  2024-10-11 14:48:58     40                  14  \n",
      "3  2024-10-11 14:23:39      8                   3  \n",
      "4  2024-10-11 05:54:59     37                  44  \n"
     ]
    }
   ],
   "source": [
    "import praw\n",
    "import pandas as pd\n",
    "from datetime import datetime\n",
    "import json\n",
    "\n",
    "# Create a Reddit instance (Replace 'your_client_id', 'your_client_secret', and 'your_user_agent' with your credentials)\n",
    "reddit = praw.Reddit(client_id='pC9dZB_wqZ9Son7HPJUc8w',\n",
    "                     client_secret='4hpR2C7Fpov0QGM7g5QNKJqsN0SmRA',\n",
    "                     user_agent='narative by /u/No_Type7179')\n",
    "\n",
    "# Fetch the latest posts from r/worldnews (you can adjust the limit as needed)\n",
    "subreddit = reddit.subreddit('geopolitics')\n",
    "latest_posts = subreddit.new(limit=5)  # Adjust the limit for the number of posts you want\n",
    "\n",
    "# Create an empty list to store post data\n",
    "post_data = []\n",
    "\n",
    "# Loop through the latest posts and extract details\n",
    "for post in latest_posts:\n",
    "    # Convert UTC timestamp to human-readable date and time\n",
    "    post_datetime = datetime.utcfromtimestamp(post.created_utc).strftime('%Y-%m-%d %H:%M:%S')\n",
    "    \n",
    "    # Append post details to the list\n",
    "    post_data.append({\n",
    "        'Title': post.title,\n",
    "        'Body/Content': post.selftext,\n",
    "        'Post ID': post.id,\n",
    "        'Subreddit': post.subreddit.display_name,\n",
    "        'Date/Time': post_datetime,\n",
    "        'Score': post.score,\n",
    "        'Number of Comments': post.num_comments\n",
    "    })\n",
    "\n",
    "# Store data in a pandas DataFrame (optional)\n",
    "df = pd.DataFrame(post_data)\n",
    "\n",
    "# Save the data to a JSON file\n",
    "with open('reddit_posts.json', 'w') as f:\n",
    "    json.dump(post_data, f, indent=4)\n",
    "\n",
    "# Print the DataFrame\n",
    "print(df)\n"
   ]
  },
  {
   "cell_type": "code",
   "execution_count": null,
   "metadata": {},
   "outputs": [],
   "source": []
  }
 ],
 "metadata": {
  "kernelspec": {
   "display_name": "base",
   "language": "python",
   "name": "python3"
  },
  "language_info": {
   "codemirror_mode": {
    "name": "ipython",
    "version": 3
   },
   "file_extension": ".py",
   "mimetype": "text/x-python",
   "name": "python",
   "nbconvert_exporter": "python",
   "pygments_lexer": "ipython3",
   "version": "3.9.12"
  }
 },
 "nbformat": 4,
 "nbformat_minor": 2
}
