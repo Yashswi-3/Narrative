{
 "cells": [
  {
   "cell_type": "code",
   "execution_count": 1,
   "id": "0361ff5b-0503-4434-9247-a58cd33301d3",
   "metadata": {},
   "outputs": [
    {
     "name": "stdout",
     "output_type": "stream",
     "text": [
      "Requirement already satisfied: transformers in c:\\programdata\\miniconda3\\envs\\pytorch_env\\lib\\site-packages (4.48.1)\n",
      "Requirement already satisfied: filelock in c:\\programdata\\miniconda3\\envs\\pytorch_env\\lib\\site-packages (from transformers) (3.17.0)\n",
      "Requirement already satisfied: huggingface-hub<1.0,>=0.24.0 in c:\\programdata\\miniconda3\\envs\\pytorch_env\\lib\\site-packages (from transformers) (0.28.0)\n",
      "Requirement already satisfied: numpy>=1.17 in c:\\programdata\\miniconda3\\envs\\pytorch_env\\lib\\site-packages (from transformers) (2.0.2)\n",
      "Requirement already satisfied: packaging>=20.0 in c:\\programdata\\miniconda3\\envs\\pytorch_env\\lib\\site-packages (from transformers) (24.2)\n",
      "Requirement already satisfied: pyyaml>=5.1 in c:\\programdata\\miniconda3\\envs\\pytorch_env\\lib\\site-packages (from transformers) (6.0.2)\n",
      "Requirement already satisfied: regex!=2019.12.17 in c:\\programdata\\miniconda3\\envs\\pytorch_env\\lib\\site-packages (from transformers) (2024.11.6)\n",
      "Requirement already satisfied: requests in c:\\programdata\\miniconda3\\envs\\pytorch_env\\lib\\site-packages (from transformers) (2.32.3)\n",
      "Requirement already satisfied: tokenizers<0.22,>=0.21 in c:\\programdata\\miniconda3\\envs\\pytorch_env\\lib\\site-packages (from transformers) (0.21.0)\n",
      "Requirement already satisfied: safetensors>=0.4.1 in c:\\programdata\\miniconda3\\envs\\pytorch_env\\lib\\site-packages (from transformers) (0.5.2)\n",
      "Requirement already satisfied: tqdm>=4.27 in c:\\programdata\\miniconda3\\envs\\pytorch_env\\lib\\site-packages (from transformers) (4.67.1)\n",
      "Requirement already satisfied: fsspec>=2023.5.0 in c:\\programdata\\miniconda3\\envs\\pytorch_env\\lib\\site-packages (from huggingface-hub<1.0,>=0.24.0->transformers) (2024.12.0)\n",
      "Requirement already satisfied: typing-extensions>=3.7.4.3 in c:\\programdata\\miniconda3\\envs\\pytorch_env\\lib\\site-packages (from huggingface-hub<1.0,>=0.24.0->transformers) (4.12.2)\n",
      "Requirement already satisfied: colorama in c:\\programdata\\miniconda3\\envs\\pytorch_env\\lib\\site-packages (from tqdm>=4.27->transformers) (0.4.6)\n",
      "Requirement already satisfied: charset_normalizer<4,>=2 in c:\\programdata\\miniconda3\\envs\\pytorch_env\\lib\\site-packages (from requests->transformers) (3.4.1)\n",
      "Requirement already satisfied: idna<4,>=2.5 in c:\\programdata\\miniconda3\\envs\\pytorch_env\\lib\\site-packages (from requests->transformers) (3.10)\n",
      "Requirement already satisfied: urllib3<3,>=1.21.1 in c:\\programdata\\miniconda3\\envs\\pytorch_env\\lib\\site-packages (from requests->transformers) (2.3.0)\n",
      "Requirement already satisfied: certifi>=2017.4.17 in c:\\programdata\\miniconda3\\envs\\pytorch_env\\lib\\site-packages (from requests->transformers) (2024.12.14)\n"
     ]
    }
   ],
   "source": [
    "!pip install transformers"
   ]
  },
  {
   "cell_type": "code",
   "execution_count": 1,
   "id": "d1f8cddd-ed95-4d7d-aeb1-7027d8b1fbf0",
   "metadata": {},
   "outputs": [],
   "source": [
    "import torch\n",
    "from transformers import pipeline"
   ]
  },
  {
   "cell_type": "code",
   "execution_count": 2,
   "id": "7dee9f6b-04a3-41a1-9ec7-930600d37c32",
   "metadata": {},
   "outputs": [
    {
     "name": "stderr",
     "output_type": "stream",
     "text": [
      "Device set to use cuda:0\n"
     ]
    }
   ],
   "source": [
    "summarizer = pipeline(\"summarization\", model=\"facebook/bart-large-cnn\", framework=\"pt\")\n"
   ]
  },
  {
   "cell_type": "code",
   "execution_count": 3,
   "id": "30e9a7ee-efb3-4144-b322-8dba2b4abdcb",
   "metadata": {},
   "outputs": [],
   "source": [
    "text = \"\"\"The quick brown fox jumps over the lazy dog. This is a commonly used pangram \n",
    "that contains every letter of the English alphabet. Pangrams are often used to test fonts, \n",
    "keyboard layouts, and typing skills.\"\"\""
   ]
  },
  {
   "cell_type": "code",
   "execution_count": 4,
   "id": "0dfbafea-123d-4f77-a2c4-744f5423322f",
   "metadata": {},
   "outputs": [],
   "source": [
    "summary = summarizer(text, max_length=50, min_length=10, do_sample=False)\n"
   ]
  },
  {
   "cell_type": "code",
   "execution_count": 5,
   "id": "9f228adc-b981-42bf-b522-e23ca82f5fbc",
   "metadata": {},
   "outputs": [
    {
     "name": "stdout",
     "output_type": "stream",
     "text": [
      "Pangrams are often used to test fonts, keyboard layouts, and typing skills. This pangram contains every letter of the English alphabet.\n"
     ]
    }
   ],
   "source": [
    "print(summary[0]['summary_text'])\n"
   ]
  },
  {
   "cell_type": "code",
   "execution_count": 6,
   "id": "54d66e9f-6416-4afe-aded-cfd44f595305",
   "metadata": {},
   "outputs": [
    {
     "name": "stdout",
     "output_type": "stream",
     "text": [
      "1633882624\n"
     ]
    }
   ],
   "source": [
    "print(torch.cuda.memory_allocated())  # Shows GPU memory usage\n"
   ]
  },
  {
   "cell_type": "code",
   "execution_count": 7,
   "id": "4731e0ff-7437-4e92-ad22-64ffb535ec05",
   "metadata": {},
   "outputs": [
    {
     "name": "stdout",
     "output_type": "stream",
     "text": [
      "GPU Memory Allocated: 1558.19 MB\n",
      "GPU Memory Allocated: 1.52 GB\n"
     ]
    }
   ],
   "source": [
    "import torch\n",
    "\n",
    "# Convert bytes to MB\n",
    "gpu_memory_mb = torch.cuda.memory_allocated() / (1024 * 1024)\n",
    "print(f\"GPU Memory Allocated: {gpu_memory_mb:.2f} MB\")\n",
    "\n",
    "# Convert bytes to GB\n",
    "gpu_memory_gb = torch.cuda.memory_allocated() / (1024 * 1024 * 1024)\n",
    "print(f\"GPU Memory Allocated: {gpu_memory_gb:.2f} GB\")\n"
   ]
  },
  {
   "cell_type": "code",
   "execution_count": 8,
   "id": "43265292-2645-433d-be59-acfd742e0e72",
   "metadata": {},
   "outputs": [
    {
     "name": "stdout",
     "output_type": "stream",
     "text": [
      "cuda:0\n"
     ]
    }
   ],
   "source": [
    "print(next(summarizer.model.parameters()).device)\n"
   ]
  },
  {
   "cell_type": "code",
   "execution_count": null,
   "id": "42d449b8-1427-4676-85a2-001772a6e90c",
   "metadata": {},
   "outputs": [],
   "source": []
  }
 ],
 "metadata": {
  "kernelspec": {
   "display_name": "pytorch_env",
   "language": "python",
   "name": "python3"
  },
  "language_info": {
   "codemirror_mode": {
    "name": "ipython",
    "version": 3
   },
   "file_extension": ".py",
   "mimetype": "text/x-python",
   "name": "python",
   "nbconvert_exporter": "python",
   "pygments_lexer": "ipython3",
   "version": "3.11.11"
  }
 },
 "nbformat": 4,
 "nbformat_minor": 5
}
