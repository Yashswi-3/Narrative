{
 "cells": [
  {
   "cell_type": "code",
   "execution_count": null,
   "metadata": {},
   "outputs": [],
   "source": [
    "\"\"\"\n",
    "Reddit Data Processing Pipeline\n",
    "This Jupyter Notebook automates fetching, preprocessing, and summarizing Reddit data.\n",
    "\"\"\"\n",
    "\n",
    "import os\n",
    "import json\n",
    "from fetch_data import fetch_reddit_posts\n",
    "from preprocess import preprocess_data\n",
    "from summarize import summarize_key_points\n",
    "\n",
    "# Define file paths\n",
    "RAW_DATA_PATH = r\"C:\\Users\\yashswi shukla\\Desktop\\Project\\Narrative\\Narrative\\data\\raw_reddit_data\\reddit_results.json\"\n",
    "PROCESSED_DATA_PATH = r\"C:\\Users\\yashswi shukla\\Desktop\\Project\\Narrative\\Narrative\\data\\processed_text\\processed_reddit_data.json\"\n",
    "SUMMARY_OUTPUT_PATH = r\"C:\\Users\\yashswi shukla\\Desktop\\Project\\Narrative\\Narrative\\data\\summaries\\reddit_summary.json\"\n",
    "\n",
    "# Step 1: Fetch Reddit Data\n",
    "query = input(\"Enter your search query: \")\n",
    "print(\"Fetching data from Reddit...\")\n",
    "fetch_reddit_posts(query, RAW_DATA_PATH)\n",
    "print(f\"✅ Data saved to {RAW_DATA_PATH}\")\n",
    "\n",
    "# Step 2: Preprocess Data\n",
    "print(\"Preprocessing data...\")\n",
    "processed_data = preprocess_data(RAW_DATA_PATH, PROCESSED_DATA_PATH)\n",
    "print(f\"✅ Processed data saved to {PROCESSED_DATA_PATH}\")\n",
    "\n",
    "# Step 3: Summarize Data\n",
    "print(\"Summarizing data...\")\n",
    "summary_result = summarize_key_points(PROCESSED_DATA_PATH)\n",
    "\n",
    "# Save summary output\n",
    "with open(SUMMARY_OUTPUT_PATH, \"w\", encoding=\"utf-8\") as f:\n",
    "    json.dump(summary_result, f, indent=4, ensure_ascii=False)\n",
    "\n",
    "print(f\"✅ Final summary saved to {SUMMARY_OUTPUT_PATH}\")\n",
    "\n",
    "# Display Summary\n",
    "print(\"\\n🔍 Final Summary:\\n\")\n",
    "print(summary_result)\n"
   ]
  }
 ],
 "metadata": {
  "kernelspec": {
   "display_name": "pytorch_env",
   "language": "python",
   "name": "python3"
  },
  "language_info": {
   "name": "python",
   "version": "3.11.11"
  }
 },
 "nbformat": 4,
 "nbformat_minor": 2
}
