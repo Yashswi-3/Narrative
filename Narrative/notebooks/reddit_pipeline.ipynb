{
 "cells": [
  {
   "cell_type": "code",
   "execution_count": 3,
   "metadata": {},
   "outputs": [
    {
     "name": "stdout",
     "output_type": "stream",
     "text": [
      "Fetching data from Reddit...\n",
      "\n",
      "🔍 Searching in subreddit: r/Indianindieheads for 'indian foold'\n",
      "\n",
      "✅ Data saved to C:\\Users\\yashswi shukla\\Desktop\\Project\\Narrative\\Narrative\\data\\raw_reddit_data\\reddit_results.json\n",
      "✅ Data saved to C:\\Users\\yashswi shukla\\Desktop\\Project\\Narrative\\Narrative\\data\\raw_reddit_data\\reddit_results.json\n",
      "Preprocessing data...\n",
      "✅ Processed data saved to C:\\Users\\yashswi shukla\\Desktop\\Project\\Narrative\\Narrative\\data\\processed_text\\processed_reddit_data.json\n",
      "✅ Processed data saved to C:\\Users\\yashswi shukla\\Desktop\\Project\\Narrative\\Narrative\\data\\processed_text\\processed_reddit_data.json\n",
      "Summarizing data...\n"
     ]
    },
    {
     "name": "stderr",
     "output_type": "stream",
     "text": [
      "Device set to use cuda:0\n"
     ]
    },
    {
     "name": "stdout",
     "output_type": "stream",
     "text": [
      "✅ Summary saved to C:\\Users\\yashswi shukla\\Desktop\\Project\\Narrative\\Narrative\\data\\summaries\\reddit_summary.json\n",
      "✅ Final summary saved to C:\\Users\\yashswi shukla\\Desktop\\Project\\Narrative\\Narrative\\data\\summaries\\reddit_summary.json\n",
      "\n",
      "🔍 Final Summary:\n",
      "\n",
      "\n"
     ]
    }
   ],
   "source": [
    "\"\"\"\n",
    "Reddit Data Processing Pipeline\n",
    "This script automates fetching, preprocessing, and summarizing Reddit data.\n",
    "\"\"\"\n",
    "\n",
    "import os\n",
    "import json\n",
    "from fetch_data import fetch_reddit_posts\n",
    "from preprocess import preprocess_data\n",
    "from summarize import summarize_key_points\n",
    "\n",
    "# Define file paths\n",
    "RAW_DATA_PATH = r\"C:\\Users\\yashswi shukla\\Desktop\\Project\\Narrative\\Narrative\\data\\raw_reddit_data\\reddit_results.json\"\n",
    "PROCESSED_DATA_PATH = r\"C:\\Users\\yashswi shukla\\Desktop\\Project\\Narrative\\Narrative\\data\\processed_text\\processed_reddit_data.json\"\n",
    "SUMMARY_OUTPUT_PATH = r\"C:\\Users\\yashswi shukla\\Desktop\\Project\\Narrative\\Narrative\\data\\summaries\\reddit_summary.json\"\n",
    "\n",
    "# Step 1: Fetch Reddit Data\n",
    "query = input(\"Enter your search query: \")\n",
    "print(\"Fetching data from Reddit...\")\n",
    "fetch_reddit_posts(query, RAW_DATA_PATH)\n",
    "print(f\"✅ Data saved to {RAW_DATA_PATH}\")\n",
    "\n",
    "# Step 2: Preprocess Data\n",
    "print(\"Preprocessing data...\")\n",
    "preprocess_data(RAW_DATA_PATH, PROCESSED_DATA_PATH)\n",
    "print(f\"✅ Processed data saved to {PROCESSED_DATA_PATH}\")\n",
    "\n",
    "# Step 3: Summarize Data\n",
    "print(\"Summarizing data...\")\n",
    "summarize_key_points(PROCESSED_DATA_PATH, SUMMARY_OUTPUT_PATH)\n",
    "\n",
    "# Load and display the final summary\n",
    "with open(SUMMARY_OUTPUT_PATH, \"r\", encoding=\"utf-8\") as f:\n",
    "    summary_data = json.load(f)\n",
    "\n",
    "print(f\"✅ Final summary saved to {SUMMARY_OUTPUT_PATH}\")\n",
    "\n",
    "# Display Summary\n",
    "print(\"\\n🔍 Final Summary:\\n\")\n",
    "print(summary_data[\"summary\"])\n"
   ]
  },
  {
   "cell_type": "code",
   "execution_count": 1,
   "metadata": {},
   "outputs": [],
   "source": [
    "import sys\n",
    "import os\n",
    "\n",
    "# Add the project directory to the system path\n",
    "sys.path.append(os.path.abspath(\"C:/Users/yashswi shukla/Desktop/Project/Narrative/Narrative/scripts\"))\n"
   ]
  },
  {
   "cell_type": "code",
   "execution_count": null,
   "metadata": {},
   "outputs": [],
   "source": []
  }
 ],
 "metadata": {
  "kernelspec": {
   "display_name": "pytorch_env",
   "language": "python",
   "name": "python3"
  },
  "language_info": {
   "codemirror_mode": {
    "name": "ipython",
    "version": 3
   },
   "file_extension": ".py",
   "mimetype": "text/x-python",
   "name": "python",
   "nbconvert_exporter": "python",
   "pygments_lexer": "ipython3",
   "version": "3.11.11"
  }
 },
 "nbformat": 4,
 "nbformat_minor": 2
}
